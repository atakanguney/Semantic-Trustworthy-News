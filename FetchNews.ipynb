{
 "cells": [
  {
   "cell_type": "code",
   "execution_count": 2,
   "metadata": {},
   "outputs": [
    {
     "name": "stdout",
     "output_type": "stream",
     "text": [
      "Requirement already satisfied: newsapi-python in /Users/atakan1/.virtualenvs/ssw/lib/python3.7/site-packages (0.2.6)\n",
      "Requirement already satisfied: requests<3.0.0 in /Users/atakan1/.virtualenvs/ssw/lib/python3.7/site-packages (from newsapi-python) (2.22.0)\n",
      "Requirement already satisfied: chardet<3.1.0,>=3.0.2 in /Users/atakan1/.virtualenvs/ssw/lib/python3.7/site-packages (from requests<3.0.0->newsapi-python) (3.0.4)\n",
      "Requirement already satisfied: idna<2.9,>=2.5 in /Users/atakan1/.virtualenvs/ssw/lib/python3.7/site-packages (from requests<3.0.0->newsapi-python) (2.8)\n",
      "Requirement already satisfied: certifi>=2017.4.17 in /Users/atakan1/.virtualenvs/ssw/lib/python3.7/site-packages (from requests<3.0.0->newsapi-python) (2019.11.28)\n",
      "Requirement already satisfied: urllib3!=1.25.0,!=1.25.1,<1.26,>=1.21.1 in /Users/atakan1/.virtualenvs/ssw/lib/python3.7/site-packages (from requests<3.0.0->newsapi-python) (1.25.7)\n"
     ]
    }
   ],
   "source": [
    "!pip install \"newsapi-python\""
   ]
  },
  {
   "cell_type": "code",
   "execution_count": 3,
   "metadata": {},
   "outputs": [],
   "source": [
    "from newsapi import NewsApiClient"
   ]
  },
  {
   "cell_type": "code",
   "execution_count": 4,
   "metadata": {},
   "outputs": [],
   "source": [
    "newsapi = NewsApiClient(api_key='5b7846d800d14c20b2b1cca6a06f4d6e')"
   ]
  },
  {
   "cell_type": "code",
   "execution_count": 5,
   "metadata": {},
   "outputs": [],
   "source": [
    "all_articles = newsapi.get_everything(\n",
    "                                      sources='bbc-news,the-verge',\n",
    "                                      language='en',\n",
    "                                      sort_by='relevancy')"
   ]
  },
  {
   "cell_type": "code",
   "execution_count": 7,
   "metadata": {},
   "outputs": [],
   "source": [
    "articles = all_articles['articles']"
   ]
  },
  {
   "cell_type": "code",
   "execution_count": 9,
   "metadata": {},
   "outputs": [],
   "source": [
    "import json"
   ]
  },
  {
   "cell_type": "code",
   "execution_count": 11,
   "metadata": {},
   "outputs": [],
   "source": [
    "with open('news_articles.json', 'w') as fp:\n",
    "    json.dump(articles, fp, indent=4)"
   ]
  },
  {
   "cell_type": "code",
   "execution_count": null,
   "metadata": {},
   "outputs": [],
   "source": []
  }
 ],
 "metadata": {
  "kernelspec": {
   "display_name": "Python 3",
   "language": "python",
   "name": "python3"
  },
  "language_info": {
   "codemirror_mode": {
    "name": "ipython",
    "version": 3
   },
   "file_extension": ".py",
   "mimetype": "text/x-python",
   "name": "python",
   "nbconvert_exporter": "python",
   "pygments_lexer": "ipython3",
   "version": "3.7.3"
  }
 },
 "nbformat": 4,
 "nbformat_minor": 2
}
