{
 "cells": [
  {
   "cell_type": "code",
   "execution_count": null,
   "metadata": {},
   "outputs": [],
   "source": [
    "import requests\n",
    "import bs4\n",
    "import json"
   ]
  },
  {
   "cell_type": "code",
   "execution_count": null,
   "metadata": {},
   "outputs": [],
   "source": [
    "r = requests.get(\"https://newsapi.org/sources\")"
   ]
  },
  {
   "cell_type": "code",
   "execution_count": null,
   "metadata": {},
   "outputs": [],
   "source": [
    "soup = bs4.BeautifulSoup(r.content)"
   ]
  },
  {
   "cell_type": "code",
   "execution_count": null,
   "metadata": {},
   "outputs": [],
   "source": [
    "cats = soup.find(\"div\", attrs={ \"class\": \"sources-container\" }).select(\"div.source\")"
   ]
  },
  {
   "cell_type": "code",
   "execution_count": null,
   "metadata": {},
   "outputs": [],
   "source": [
    "dir(cats[0])"
   ]
  },
  {
   "cell_type": "code",
   "execution_count": null,
   "metadata": {},
   "outputs": [],
   "source": [
    "cats_dict = {}\n",
    "for cat in cats:\n",
    "    url = cat.find(\"a\", attrs={ \"class\": \"db\" }).get(\"href\")\n",
    "    title = cat.find(\"div\", attrs={ \"class\": \"name\" }).get(\"title\")\n",
    "    _id = cat.find(\"kbd\").text\n",
    "    cats_dict[_id] = {\n",
    "        \"id\": _id,\n",
    "        \"name\": title,\n",
    "        \"url\": url,\n",
    "    }\n",
    "    \n",
    "    "
   ]
  },
  {
   "cell_type": "code",
   "execution_count": null,
   "metadata": {},
   "outputs": [],
   "source": [
    "cats_dict"
   ]
  },
  {
   "cell_type": "code",
   "execution_count": null,
   "metadata": {},
   "outputs": [],
   "source": [
    "def get_subcats(url):\n",
    "    sub_cats = {}\n",
    "    r = requests.get(url)\n",
    "    soup = bs4.BeautifulSoup(r.content)\n",
    "    \n",
    "    header = soup.find(\"h2\", string=\"Sub-categories\")\n",
    "    links = header.find_next_sibling().select(\"a\")\n",
    "    for link in links:\n",
    "        sub_cats[link.text] = link.get(\"href\")\n",
    "        \n",
    "    return sub_cats\n",
    "    "
   ]
  },
  {
   "cell_type": "code",
   "execution_count": null,
   "metadata": {},
   "outputs": [],
   "source": [
    "get_subcats(\"https://newsapi.org/s/argentina-news-api\")"
   ]
  },
  {
   "cell_type": "code",
   "execution_count": null,
   "metadata": {},
   "outputs": [],
   "source": [
    "base_url = \"https://newsapi.org\"\n",
    "for _id in cats_dict:\n",
    "    cats_dict[_id][\"SubCategory\"] = get_subcats(base_url + cats_dict[_id][\"url\"])"
   ]
  },
  {
   "cell_type": "code",
   "execution_count": null,
   "metadata": {},
   "outputs": [],
   "source": [
    "cats_dict"
   ]
  },
  {
   "cell_type": "code",
   "execution_count": null,
   "metadata": {},
   "outputs": [],
   "source": [
    "with open(\"categories.json\", \"w\") as fp:\n",
    "    json.dump(cats_dict, fp, indent=4, sort_keys=True)"
   ]
  },
  {
   "cell_type": "code",
   "execution_count": null,
   "metadata": {},
   "outputs": [],
   "source": []
  }
 ],
 "metadata": {
  "kernelspec": {
   "display_name": "Python 3",
   "language": "python",
   "name": "python3"
  },
  "language_info": {
   "codemirror_mode": {
    "name": "ipython",
    "version": 3
   },
   "file_extension": ".py",
   "mimetype": "text/x-python",
   "name": "python",
   "nbconvert_exporter": "python",
   "pygments_lexer": "ipython3",
   "version": "3.7.3"
  }
 },
 "nbformat": 4,
 "nbformat_minor": 2
}
